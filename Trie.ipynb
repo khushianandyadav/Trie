{
  "nbformat": 4,
  "nbformat_minor": 0,
  "metadata": {
    "colab": {
      "provenance": []
    },
    "kernelspec": {
      "name": "python3",
      "display_name": "Python 3"
    },
    "language_info": {
      "name": "python"
    }
  },
  "cells": [
    {
      "cell_type": "code",
      "execution_count": 1,
      "metadata": {
        "id": "cWMzt3r82WdF"
      },
      "outputs": [],
      "source": [
        "class Node:\n",
        "  def __init__(self):\n",
        "    # Defines a Node for use in a Trie\n",
        "    self.children = {}\n",
        "    self.is_end = False"
      ]
    },
    {
      "cell_type": "code",
      "source": [
        "class Trie:\n",
        "  def __init__(self, data = None):\n",
        "    self.root = Node()\n",
        "    if data:\n",
        "      self.add(data)\n",
        "\n",
        "  def add(self, data):\n",
        "    current_node = self.root\n",
        "\n",
        "    for ch in data:\n",
        "      if ch not in current_node.children.keys():\n",
        "        current_node.children[ch] = Node()\n",
        "      current_node = current_node.children[ch]\n",
        "\n",
        "    current_node.is_end = True\n",
        "\n",
        "  def contains(self, data):\n",
        "    current_node = self.root\n",
        "\n",
        "    for ch in data:\n",
        "      if ch in current_node.children.keys():\n",
        "        current_node = current_node.children[ch]\n",
        "      else:\n",
        "        current_node = None\n",
        "        break\n",
        "\n",
        "    return current_node and current_node.is_end\n",
        "\n",
        "  def contains_prefix(self, prefix):\n",
        "    current_node = self.root # Initialize current_node\n",
        "\n",
        "    for ch in prefix:\n",
        "      if ch in current_node.children.keys():\n",
        "        current_node = current_node.children[ch]\n",
        "      else:\n",
        "        current_node = None\n",
        "        break\n",
        "\n",
        "    if current_node:\n",
        "      return self.__contains_prefix(current_node, prefix) # Call the helper function\n",
        "    else:\n",
        "        return None # Return an empty list if prefix is not found\n",
        "\n",
        "  def __contains_prefix(self, current_node, prefix):\n",
        "    result = []\n",
        "    if current_node.is_end:\n",
        "      result.append(prefix)\n",
        "\n",
        "    for ch in current_node.children.keys():\n",
        "      result.extend(self.__contains_prefix(current_node.children[ch], prefix + ch)) # Recursively call and extend the result\n",
        "\n",
        "    return result # Return the list of words\n",
        "\n",
        "  def delete(self, data):\n",
        "    current_node = self.root\n",
        "\n",
        "    for ch in data:\n",
        "      if ch in current_node.children.keys():\n",
        "        current_node = current_node.children[ch]\n",
        "      else:\n",
        "        current_node = None\n",
        "        break\n",
        "\n",
        "    if current_node:\n",
        "      current_node.is_end = False"
      ],
      "metadata": {
        "id": "ZWPu4kn45Gyb"
      },
      "execution_count": 34,
      "outputs": []
    },
    {
      "cell_type": "code",
      "source": [
        "trie = Trie()\n",
        "trie.add(\"can\")"
      ],
      "metadata": {
        "id": "_VU-oERq5gHM"
      },
      "execution_count": 35,
      "outputs": []
    },
    {
      "cell_type": "code",
      "source": [
        "trie.add(\"cane\")"
      ],
      "metadata": {
        "id": "FVSSzRgr6nQ0"
      },
      "execution_count": 36,
      "outputs": []
    },
    {
      "cell_type": "code",
      "source": [
        "print(\"Is 'car' in the trie? \" + str(trie.contains(\"car\")))"
      ],
      "metadata": {
        "colab": {
          "base_uri": "https://localhost:8080/"
        },
        "id": "g2yJR1xC60Ng",
        "outputId": "65ef1428-52ac-4a45-d43d-14ccf0ec4da8"
      },
      "execution_count": 14,
      "outputs": [
        {
          "output_type": "stream",
          "name": "stdout",
          "text": [
            "Is 'car' in the trie? None\n"
          ]
        }
      ]
    },
    {
      "cell_type": "code",
      "source": [
        "print(\"Is 'can' in the trie?\" + str(trie.contains(\"can\")))"
      ],
      "metadata": {
        "colab": {
          "base_uri": "https://localhost:8080/"
        },
        "id": "2WRk9Q2P9OkI",
        "outputId": "c3ffd564-c347-44e4-cf65-1dae1cd3c957"
      },
      "execution_count": 16,
      "outputs": [
        {
          "output_type": "stream",
          "name": "stdout",
          "text": [
            "Is 'can' in the trie?True\n"
          ]
        }
      ]
    },
    {
      "cell_type": "code",
      "source": [
        "print(\"Words starting with 'can'\")\n",
        "for s in trie.contains_prefix(\"can\"):\n",
        "  print(f\" {s}\")"
      ],
      "metadata": {
        "colab": {
          "base_uri": "https://localhost:8080/"
        },
        "id": "hDLkhZIQOvDC",
        "outputId": "6eabda15-452b-49f5-f549-b25b8c73b915"
      },
      "execution_count": 33,
      "outputs": [
        {
          "output_type": "stream",
          "name": "stdout",
          "text": [
            "Words starting with 'can'\n",
            " can\n",
            " cane\n"
          ]
        }
      ]
    },
    {
      "cell_type": "code",
      "source": [
        "trie.delete(\"can\")"
      ],
      "metadata": {
        "id": "_dPWjprxQ_4C"
      },
      "execution_count": 37,
      "outputs": []
    },
    {
      "cell_type": "code",
      "source": [],
      "metadata": {
        "id": "K7ruT1QqS1Oj"
      },
      "execution_count": null,
      "outputs": []
    }
  ]
}